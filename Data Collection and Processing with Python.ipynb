{
 "cells": [
  {
   "cell_type": "markdown",
   "metadata": {},
   "source": [
    "# Data Collection and Processing with Python\n",
    "\n",
    "### Week 1\n"
   ]
  },
  {
   "cell_type": "markdown",
   "metadata": {},
   "source": [
    "1. Below, we have provided a list of lists. Use indexing to assign the element ‘horse’ to the variable name idx1.\n",
    "\n"
   ]
  },
  {
   "cell_type": "code",
   "execution_count": 2,
   "metadata": {},
   "outputs": [],
   "source": [
    "animals = [['cat', 'dog', 'mouse'], ['horse', 'cow', 'goat'], ['cheetah', 'giraffe', 'rhino']]\n",
    "idx1 = animals[1][0]\n"
   ]
  },
  {
   "cell_type": "markdown",
   "metadata": {},
   "source": [
    "2. Using indexing, retrieve the string ‘willow’ from the list and assign that to the variable plant.\n",
    "\n"
   ]
  },
  {
   "cell_type": "code",
   "execution_count": 3,
   "metadata": {},
   "outputs": [],
   "source": [
    "\n",
    "data = ['bagel', 'cream cheese', 'breakfast', 'grits', 'eggs', 'bacon', [34, 9, 73, []], [['willow', 'birch', 'elm'], 'apple', 'peach', 'cherry']]\n",
    "\n",
    "plant = data[7][0][0]"
   ]
  },
  {
   "cell_type": "markdown",
   "metadata": {},
   "source": [
    "2. Below, we have provided a list of lists that contain information about people. Write code to create a new list that contains every person’s last name, and save that list as last_names.\n",
    "\n"
   ]
  },
  {
   "cell_type": "code",
   "execution_count": 6,
   "metadata": {},
   "outputs": [],
   "source": [
    "info = [['Tina', 'Turner', 1939, 'singer'], ['Matt', 'Damon', 1970, 'actor'], ['Kristen', 'Wiig', 1973, 'comedian'], ['Michael', 'Phelps', 1985, 'swimmer'], ['Barack', 'Obama', 1961, 'president']]\n",
    "last_names = []\n",
    "for person_list in info:\n",
    "    last_names.append(person_list[1])\n",
    "   "
   ]
  },
  {
   "cell_type": "markdown",
   "metadata": {},
   "source": [
    "3. Below, we have provided a list of lists named L. Use nested iteration to save every string containing “b” into a new list named b_strings.\n",
    "\n"
   ]
  },
  {
   "cell_type": "code",
   "execution_count": 8,
   "metadata": {},
   "outputs": [],
   "source": [
    "L = [['apples', 'bananas', 'oranges', 'blueberries', 'lemons'], ['carrots', 'peas', 'cucumbers', 'green beans'], ['root beer', 'smoothies', 'cranberry juice']]\n",
    "\n",
    "b_strings = []\n",
    "for lists in L:\n",
    "    for item in lists:\n",
    "            if \"b\" in item:\n",
    "                b_strings.append(item)\n",
    "                "
   ]
  },
  {
   "cell_type": "code",
   "execution_count": null,
   "metadata": {},
   "outputs": [],
   "source": []
  },
  {
   "cell_type": "markdown",
   "metadata": {},
   "source": [
    "# course_3_assessment_1"
   ]
  },
  {
   "cell_type": "markdown",
   "metadata": {},
   "source": [
    "Q1) The variable nested contains a nested list. Assign ‘snake’ to the variable output using indexing.\n",
    "\n"
   ]
  },
  {
   "cell_type": "code",
   "execution_count": 11,
   "metadata": {},
   "outputs": [],
   "source": [
    "nested = [['dog', 'cat', 'horse'], ['frog', 'turtle', 'snake', 'gecko'], ['hamster', 'gerbil', 'rat', 'ferret']]\n",
    "\n",
    "output = nested[1][2]"
   ]
  },
  {
   "cell_type": "markdown",
   "metadata": {},
   "source": [
    "Q2) Below, a list of lists is provided. Use in and not in tests to create variables with Boolean values. See comments for further instructions.\n",
    "\n"
   ]
  },
  {
   "cell_type": "code",
   "execution_count": 12,
   "metadata": {},
   "outputs": [],
   "source": [
    "\n",
    "lst = [['apple', 'orange', 'banana'], [5, 6, 7, 8, 9.9, 10], ['green', 'yellow', 'purple', 'red']]\n",
    "\n",
    "#Test to see if 'yellow' is in the third list of lst. Save to variable ``yellow``\n",
    "\n",
    "yellow = \"yellow\" in lst[2]\n",
    "\n",
    "#Test to see if 4 is in the second list of lst. Save to variable ``four``\n",
    "\n",
    "four =  4 in lst[2]\n",
    "#Test to see if 'orange' is in the first element of lst. Save to variable ``orange``\n",
    "\n",
    "orange = \"orange\" in lst[0]"
   ]
  },
  {
   "cell_type": "markdown",
   "metadata": {},
   "source": [
    "Q3) Below, we’ve provided a list of lists. Use in statements to create variables with Boolean values - see the ActiveCode window for further directions.\n"
   ]
  },
  {
   "cell_type": "code",
   "execution_count": 13,
   "metadata": {},
   "outputs": [],
   "source": [
    "\n",
    "L = [[5, 8, 7], ['hello', 'hi', 'hola'], [6.6, 1.54, 3.99], ['small', 'large']]\n",
    "\n",
    "# Test if 'hola' is in the list L. Save to variable name test1\n",
    "test1 = 'hola' in L\n",
    "\n",
    "# Test if [5, 8, 7] is in the list L. Save to variable name test2\n",
    "test2 = [5, 8, 7] in L\n",
    "# Test if 6.6 is in the third element of list L. Save to variable name test3\n",
    "test3 = 6.6 in L[2]\n"
   ]
  },
  {
   "cell_type": "markdown",
   "metadata": {},
   "source": [
    "Q4) Provided is a nested data structure. Follow the instructions in the comments below. Do not hard code.\n",
    "\n"
   ]
  },
  {
   "cell_type": "code",
   "execution_count": 15,
   "metadata": {},
   "outputs": [],
   "source": [
    "\n",
    "nested = {'data': ['finding', 23, ['exercises', 'hangout', 34]], 'window': ['part', 'whole', [], 'sum', ['math', 'calculus', 'algebra', 'geometry', 'statistics',['physics', 'chemistry', 'biology']]]}\n",
    "\n",
    "# Check to see if the string data is a key in nested, \n",
    "#if it is, assign True to the variable data, otherwise assign False.\n",
    "\n",
    "data = \"data\" in nested\n",
    "\n",
    "# Check to see if the integer 24 is\n",
    "#in the value of the key data, \n",
    "#if it is then assign to the variable twentyfour the value of True, otherwise False.\n",
    "twentyfour = 24 in nested[\"data\"]\n",
    "\n",
    "# Check to see that the string 'whole' \n",
    "#is not in the value of the key window. \n",
    "#If it's not, then assign to the variable whole the value of True, otherwise False.\n",
    "\n",
    "whole = \"whole\" not in nested['window']\n",
    "# Check to see if the string 'physics' \n",
    "#is a key in the dictionary nested. If it is,\n",
    "#assign to the variable physics, the value of True, otherwise False.\n",
    "\n",
    "physics = 'physics' in nested\n"
   ]
  },
  {
   "cell_type": "code",
   "execution_count": null,
   "metadata": {},
   "outputs": [],
   "source": []
  },
  {
   "cell_type": "markdown",
   "metadata": {},
   "source": [
    "Q5) The variable nested_d contains a nested dictionary with the gold medal counts for the top four countries in the past three Olympics. Assign the value of Great Britain’s gold medal count from the London Olympics to the variable london_gold. Use indexing. Do not hardcode."
   ]
  },
  {
   "cell_type": "code",
   "execution_count": 16,
   "metadata": {},
   "outputs": [
    {
     "name": "stdout",
     "output_type": "stream",
     "text": [
      "dict_keys(['Beijing', 'London', 'Rio'])\n",
      "USA 46\n",
      "China 38\n",
      "Great Britain 29\n",
      "Russia 22\n"
     ]
    }
   ],
   "source": [
    "nested_d = {'Beijing':{'China':51, 'USA':36, 'Russia':22, 'Great Britain':19}, 'London':{'USA':46, 'China':38, 'Great Britain':29, 'Russia':22}, 'Rio':{'USA':35, 'Great Britain':22, 'China':20, 'Germany':13}}\n",
    "\n",
    "keys_nested_d = nested_d.keys()\n",
    "print(keys_nested_d)\n",
    "\n",
    "for key in nested_d['London']:\n",
    "    print(key , nested_d['London'][key])\n",
    "    \n",
    "london_gold = nested_d['London']['Great Britain']"
   ]
  },
  {
   "cell_type": "markdown",
   "metadata": {},
   "source": [
    "Q6) Below, we have provided a nested dictionary. Index into the dictionary to create variables that we have listed in the ActiveCode window.\n",
    "\n"
   ]
  },
  {
   "cell_type": "code",
   "execution_count": 17,
   "metadata": {},
   "outputs": [
    {
     "name": "stdout",
     "output_type": "stream",
     "text": [
      "swimming ['butterfly', 'breaststroke', 'backstroke', 'freestyle']\n",
      "diving ['springboard', 'platform', 'synchronized']\n",
      "track ['sprint', 'distance', 'jumps', 'throws']\n",
      "gymnastics {'women': ['vault', 'floor', 'uneven bars', 'balance beam'], 'men': ['vault', 'parallel bars', 'floor', 'rings']}\n"
     ]
    }
   ],
   "source": [
    "\n",
    "sports = {'swimming': ['butterfly', 'breaststroke', 'backstroke', 'freestyle'], 'diving': ['springboard', 'platform', 'synchronized'], 'track': ['sprint', 'distance', 'jumps', 'throws'], 'gymnastics': {'women':['vault', 'floor', 'uneven bars', 'balance beam'], 'men': ['vault', 'parallel bars', 'floor', 'rings']}}\n",
    "for key in sports:\n",
    "    print( key , sports[key])\n",
    "# Assign the string 'backstroke' to the name v1\n",
    "\n",
    "v1 = sports['swimming'][2]\n",
    "# Assign the string 'platform' to the name v2\n",
    "v2 =  sports['diving'][1]\n",
    "# Assign the list ['vault', 'floor', 'uneven bars', 'balance beam'] to the name v3\n",
    "v3 = sports['gymnastics']['women']\n",
    "# Assign the string 'rings' to the name v4\n",
    "\n",
    "v4 = sports['gymnastics']['men'][3]"
   ]
  },
  {
   "cell_type": "code",
   "execution_count": 18,
   "metadata": {},
   "outputs": [
    {
     "ename": "SyntaxError",
     "evalue": "invalid syntax (<ipython-input-18-bd143e90b9a1>, line 1)",
     "output_type": "error",
     "traceback": [
      "\u001b[1;36m  File \u001b[1;32m\"<ipython-input-18-bd143e90b9a1>\"\u001b[1;36m, line \u001b[1;32m1\u001b[0m\n\u001b[1;33m    Q7) Given the dictionary, nested_d, save the medal count for the USA from all three Olympics in the dictionary to the list US_count.\u001b[0m\n\u001b[1;37m      ^\u001b[0m\n\u001b[1;31mSyntaxError\u001b[0m\u001b[1;31m:\u001b[0m invalid syntax\n"
     ]
    }
   ],
   "source": [
    "Q7) Given the dictionary, nested_d, save the medal count for the USA from all three Olympics in the dictionary to the list US_count.\n",
    "\n"
   ]
  },
  {
   "cell_type": "code",
   "execution_count": 19,
   "metadata": {},
   "outputs": [
    {
     "name": "stdout",
     "output_type": "stream",
     "text": [
      "Beijing {'China': 51, 'USA': 36, 'Russia': 22, 'Great Britain': 19}\n",
      "London {'USA': 46, 'China': 38, 'Great Britain': 29, 'Russia': 22}\n",
      "Rio {'USA': 35, 'Great Britain': 22, 'China': 20, 'Germany': 13}\n"
     ]
    }
   ],
   "source": [
    "nested_d = {'Beijing':{'China':51, 'USA':36, 'Russia':22, 'Great Britain':19}, 'London':{'USA':46, 'China':38, 'Great Britain':29, 'Russia':22}, 'Rio':{'USA':35, 'Great Britain':22, 'China':20, 'Germany':13}}\n",
    "\n",
    "#for key , value in nested_d.items():\n",
    " #   print(key , value)\n",
    "US_count = []\n",
    "\n",
    "for key1 in nested_d:\n",
    "    print(key1 , nested_d[key1])\n",
    "    for key2 in nested_d[key1]:\n",
    "        if key2 == 'USA':\n",
    "            US_count.append(nested_d[key1]['USA'])\n",
    "            "
   ]
  },
  {
   "cell_type": "markdown",
   "metadata": {},
   "source": [
    "Q8) Iterate through the contents of l_of_l and assign the third element of sublist to a new list called third.\n",
    "\n"
   ]
  },
  {
   "cell_type": "code",
   "execution_count": 23,
   "metadata": {},
   "outputs": [
    {
     "name": "stdout",
     "output_type": "stream",
     "text": [
      "4\n"
     ]
    }
   ],
   "source": [
    "l_of_l = [['purple', 'mauve', 'blue'], ['red', 'maroon', 'blood orange', 'crimson'], ['sea green', 'cornflower', 'lavender', 'indigo'], ['yellow', 'amarillo', 'mac n cheese', 'golden rod']]\n",
    "print(len(l_of_l))\n",
    "\n",
    "third = []\n",
    "for lists in l_of_l:\n",
    "    third.append(lists[2])\n",
    "    \n",
    "\n"
   ]
  },
  {
   "cell_type": "markdown",
   "metadata": {},
   "source": [
    "Q9) Given below is a list of lists of athletes. Create a list, t, that saves only the athlete’s name if it contains the letter “t”. If it does not contain the letter “t”, save the athlete name into list other.\n",
    "\n"
   ]
  },
  {
   "cell_type": "code",
   "execution_count": 24,
   "metadata": {},
   "outputs": [
    {
     "name": "stdout",
     "output_type": "stream",
     "text": [
      "['Phelps', 'Lochte', 'Schooling', 'Ledecky', 'Franklin']\n",
      "['Felix', 'Bolt', 'Gardner', 'Eaton']\n",
      "['Biles', 'Douglas', 'Hamm', 'Raisman', 'Mikulak', 'Dalton']\n"
     ]
    }
   ],
   "source": [
    "\n",
    "athletes = [['Phelps', 'Lochte', 'Schooling', 'Ledecky', 'Franklin'], ['Felix', 'Bolt', 'Gardner', 'Eaton'], ['Biles', 'Douglas', 'Hamm', 'Raisman', 'Mikulak', 'Dalton']]\n",
    "t = []\n",
    "other = []\n",
    "for lists in athletes:\n",
    "    print(lists)\n",
    "    for name in lists:\n",
    "        if \"t\" in name:\n",
    "            t.append(name)\n",
    "        else:\n",
    "            other.append(name)"
   ]
  },
  {
   "cell_type": "code",
   "execution_count": null,
   "metadata": {},
   "outputs": [],
   "source": []
  }
 ],
 "metadata": {
  "kernelspec": {
   "display_name": "Python 3",
   "language": "python",
   "name": "python3"
  },
  "language_info": {
   "codemirror_mode": {
    "name": "ipython",
    "version": 3
   },
   "file_extension": ".py",
   "mimetype": "text/x-python",
   "name": "python",
   "nbconvert_exporter": "python",
   "pygments_lexer": "ipython3",
   "version": "3.7.6"
  }
 },
 "nbformat": 4,
 "nbformat_minor": 4
}
