{
 "cells": [
  {
   "cell_type": "markdown",
   "metadata": {},
   "source": [
    "## course_2_assessment_1\n"
   ]
  },
  {
   "cell_type": "markdown",
   "metadata": {},
   "source": [
    "# Q1)\n",
    "The textfile, travel_plans.txt, contains the summer travel plans for someone with some commentary. Find the total number of characters in the file and save to the variable num."
   ]
  },
  {
   "cell_type": "raw",
   "metadata": {},
   "source": [
    "file = open(\"travel_plans.txt\",\"r\")\n",
    "content = file.read()\n",
    "num = len(content)\n",
    "file.close()"
   ]
  },
  {
   "cell_type": "markdown",
   "metadata": {},
   "source": [
    "# Q2)"
   ]
  },
  {
   "cell_type": "markdown",
   "metadata": {},
   "source": [
    "We have provided a file called emotion_words.txt that contains lines of words that describe emotions. Find the total number of words in the file and assign this value to the variable num_words."
   ]
  },
  {
   "cell_type": "raw",
   "metadata": {},
   "source": [
    "file = open(\"emotion_words.txt\",\"r\")\n",
    "lines = file.read()\n",
    "print(lines)\n",
    "content = lines.split()\n",
    "num_words = len(content)\n",
    "print(num_words)"
   ]
  },
  {
   "cell_type": "markdown",
   "metadata": {},
   "source": [
    "# Q3 "
   ]
  },
  {
   "cell_type": "markdown",
   "metadata": {},
   "source": [
    "Assign to the variable num_lines the number of lines in the file school_prompt.txt.\n"
   ]
  },
  {
   "cell_type": "raw",
   "metadata": {},
   "source": [
    "file = open(\"school_prompt.txt\",\"r\")\n",
    "content = file.readlines()\n",
    "num_lines = len(content)\n",
    "file.close()"
   ]
  },
  {
   "cell_type": "markdown",
   "metadata": {},
   "source": [
    "# Q4\n",
    "\n",
    "Assign the first 30 characters of school_prompt.txt as a string to the variable beginning_chars."
   ]
  },
  {
   "cell_type": "raw",
   "metadata": {},
   "source": [
    "with open(\"school_prompt.txt\",'r') as file:\n",
    "    content = file.read()\n",
    "    beginning_chars = content[:30]"
   ]
  },
  {
   "cell_type": "markdown",
   "metadata": {},
   "source": [
    "# Q5\n",
    "Challenge: Using the file school_prompt.txt, assign the third word of every line to a list called three.\n",
    "\n"
   ]
  },
  {
   "cell_type": "raw",
   "metadata": {},
   "source": [
    "file = open(\"school_prompt.txt\",\"r\")\n",
    "lines = file.readlines()\n",
    "three = []\n",
    "for line in lines :\n",
    "    line = line.strip().split(\" \")\n",
    "    print(line)\n",
    "    three.append(line[2])\n",
    "    "
   ]
  },
  {
   "cell_type": "markdown",
   "metadata": {},
   "source": [
    "# Q6 \n",
    "Challenge: Create a list called emotions that contains the first word of every line in emotion_words.txt.\n",
    "\n"
   ]
  },
  {
   "cell_type": "raw",
   "metadata": {},
   "source": [
    "file = open(\"emotion_words.txt\",\"r\")\n",
    "content = file.readlines()\n",
    "emotions  = [] \n",
    "for line in content:\n",
    "    line = line.strip().split(\" \")\n",
    "    emotions.append(line[0])"
   ]
  },
  {
   "cell_type": "markdown",
   "metadata": {},
   "source": [
    "# Q7 \n",
    "Assign the first 33 characters from the textfile, travel_plans.txt to the variable first_chars.\n",
    "\n"
   ]
  },
  {
   "cell_type": "raw",
   "metadata": {},
   "source": [
    "with open(\"travel_plans.txt\",\"r\") as file:\n",
    "    first_chars = file.read()[:33]\n",
    "    \n"
   ]
  },
  {
   "cell_type": "markdown",
   "metadata": {},
   "source": [
    "# Q8 \n",
    "Challenge: Using the file school_prompt.txt, if the character ‘p’ is in a word, then add the word to a list called p_words.\n",
    "\n"
   ]
  },
  {
   "cell_type": "raw",
   "metadata": {},
   "source": [
    "with open(\"school_prompt.txt\",\"r\") as file:\n",
    "    p_words = []\n",
    "    content = file.readlines()\n",
    "    for lines in content:\n",
    "        alist = lines.strip().split(\" \")\n",
    "        print(alist)\n",
    "        for word in alist:\n",
    "            if \"p\" in word:\n",
    "                p_words.append(word)"
   ]
  },
  {
   "cell_type": "code",
   "execution_count": null,
   "metadata": {},
   "outputs": [],
   "source": []
  },
  {
   "cell_type": "markdown",
   "metadata": {},
   "source": [
    "# course_2_assessment_2\n"
   ]
  },
  {
   "cell_type": "markdown",
   "metadata": {},
   "source": [
    "Q1) At the halfway point during the Rio Olympics, the United States had 70 medals, Great Britain had 38 medals, China had 45 medals, Russia had 30 medals, and Germany had 17 medals. Create a dictionary assigned to the variable medal_count with the country names as the keys and the number of medals the country had as each key’s value.\n",
    "\n"
   ]
  },
  {
   "cell_type": "raw",
   "metadata": {},
   "source": [
    "medal_count = { \"United States\" : 70 , \"Great Britain\" : 38 , \"China\" : 45 , \"Russia\" : 30 , \n",
    "               \"Germany\" : 17}"
   ]
  },
  {
   "cell_type": "markdown",
   "metadata": {},
   "source": [
    "Q2) Given the dictionary swimmers, add an additional key-value pair to the dictionary with \"Phelps\" as the key and the integer 23 as the value. Do not rewrite the entire dictionary.\n",
    "\n"
   ]
  },
  {
   "cell_type": "raw",
   "metadata": {},
   "source": [
    "\n",
    "swimmers = {'Manuel':4, 'Lochte':12, 'Adrian':7, 'Ledecky':5, 'Dirado':4}\n",
    "\n",
    "swimmers[\"Phelps\"] = 23"
   ]
  },
  {
   "cell_type": "markdown",
   "metadata": {},
   "source": [
    "Q3) Add the string “hockey” as a key to the dictionary sports_periods and assign it the value of 3. Do not rewrite the entire dictionary.\n",
    "\n"
   ]
  },
  {
   "cell_type": "raw",
   "metadata": {},
   "source": [
    "\n",
    "sports_periods = {'baseball': 9, 'basketball': 4, 'soccer': 4, 'cricket': 2}\n",
    "\n",
    "sports_periods[\"hockey\"] = 3"
   ]
  },
  {
   "cell_type": "markdown",
   "metadata": {},
   "source": [
    "Q4) The dictionary golds contains information about how many gold medals each country won in the 2016 Olympics. But today, Spain won 2 more gold medals. Update golds to reflect this information.\n",
    "\n"
   ]
  },
  {
   "cell_type": "raw",
   "metadata": {},
   "source": [
    "\n",
    "golds = {\"Italy\": 12, \"USA\": 33, \"Brazil\": 15, \"China\": 27, \"Spain\": 19, \"Canada\": 22, \"Argentina\": 8, \"England\": 29}\n",
    "golds[\"Spain\"] += 2\n"
   ]
  },
  {
   "cell_type": "markdown",
   "metadata": {},
   "source": [
    "Q5) Create a list of the countries that are in the dictionary golds, and assign that list to the variable name countries. Do not hard code this."
   ]
  },
  {
   "cell_type": "raw",
   "metadata": {},
   "source": [
    "golds = {\"Italy\": 12, \"USA\": 33, \"Brazil\": 15, \"China\": 27, \"Spain\": 19, \"Canada\": 22, \"Argentina\": 8, \"England\": 29}\n",
    "\n",
    "countries = list(golds.keys())"
   ]
  },
  {
   "cell_type": "markdown",
   "metadata": {},
   "source": [
    "Q6) Provided is the dictionary, medal_count, which lists countries and their respective medal count at the halfway point in the 2016 Rio Olympics. Using dictionary mechanics, assign the medal count value for \"Belarus\" to the variable belarus. Do not hardcode this.\n",
    "\n"
   ]
  },
  {
   "cell_type": "raw",
   "metadata": {},
   "source": [
    "\n",
    "medal_count = {'United States': 70, 'Great Britain':38, 'China':45, 'Russia':30, 'Germany':17, 'Italy':22, 'France': 22, 'Japan':26, 'Australia':22, 'South Korea':14, 'Hungary':12, 'Netherlands':10, 'Spain':5, 'New Zealand':8, 'Canada':13, 'Kazakhstan':8, 'Colombia':4, 'Switzerland':5, 'Belgium':4, 'Thailand':4, 'Croatia':3, 'Iran':3, 'Jamaica':3, 'South Africa':7, 'Sweden':6, 'Denmark':7, 'North Korea':6, 'Kenya':4, 'Brazil':7, 'Belarus':4, 'Cuba':5, 'Poland':4, 'Romania':4, 'Slovenia':3, 'Argentina':2, 'Bahrain':2, 'Slovakia':2, 'Vietnam':2, 'Czech Republic':6, 'Uzbekistan':5}\n",
    "\n",
    "belarus = medal_count[\"Belarus\"]"
   ]
  },
  {
   "cell_type": "markdown",
   "metadata": {},
   "source": [
    "Q7) The dictionary total_golds contains the total number of gold medals that countries have won over the course of history. Use dictionary mechanics to find the number of golds Chile has won, and assign that number to the variable name chile_golds. Do not hard code this!\n",
    "\n"
   ]
  },
  {
   "cell_type": "raw",
   "metadata": {},
   "source": [
    "total_golds = {\"Italy\": 114, \"Germany\": 782, \"Pakistan\": 10, \"Sweden\": 627, \"USA\": 2681, \"Zimbabwe\": 8, \"Greece\": 111, \"Mongolia\": 24, \"Brazil\": 108, \"Croatia\": 34, \"Algeria\": 15, \"Switzerland\": 323, \"Yugoslavia\": 87, \"China\": 526, \"Egypt\": 26, \"Norway\": 477, \"Spain\": 133, \"Australia\": 480, \"Slovakia\": 29, \"Canada\": 22, \"New Zealand\": 100, \"Denmark\": 180, \"Chile\": 13, \"Argentina\": 70, \"Thailand\": 24, \"Cuba\": 209, \"Uganda\": 7,  \"England\": 806, \"Denmark\": 180, \"Ukraine\": 122, \"Bahamas\": 12}\n",
    "\n",
    "chile_golds = total_golds[\"Chile\"]"
   ]
  },
  {
   "cell_type": "markdown",
   "metadata": {},
   "source": [
    "Q8) Provided is a dictionary called US_medals which has the first 70 metals that the United States has won in 2016, and in which category they have won it in. Using dictionary mechanics, assign the value of the key \"Fencing\" to a variable fencing_value. Remember, do not hard code this."
   ]
  },
  {
   "cell_type": "code",
   "execution_count": 5,
   "metadata": {},
   "outputs": [],
   "source": [
    "\n",
    "US_medals = {\"Swimming\": 33, \"Gymnastics\": 6, \"Track & Field\": 6, \"Tennis\": 3, \"Judo\": 2, \"Rowing\": 2, \"Shooting\": 3, \"Cycling - Road\": 1, \"Fencing\": 4, \"Diving\": 2, \"Archery\": 2, \"Cycling - Track\": 1, \"Equestrian\": 2, \"Golf\": 1, \"Weightlifting\": 1}\n",
    "\n",
    "fencing_value = US_medals[\"Fencing\"]"
   ]
  },
  {
   "cell_type": "markdown",
   "metadata": {},
   "source": [
    "##  Accumulating Multiple Results In a Dictionary¶"
   ]
  },
  {
   "cell_type": "markdown",
   "metadata": {},
   "source": [
    "Q1) Provided is a string saved to the variable name sentence. Split the string into a list of words, then create a dictionary that contains each word and the number of times it occurs. Save this dictionary to the variable name word_counts."
   ]
  },
  {
   "cell_type": "raw",
   "metadata": {},
   "source": [
    "sentence = \"The dog chased the rabbit into the forest but the rabbit was too quick.\"\n",
    "\n",
    "alist = sentence.split(\" \")\n",
    "word_counts = {}\n",
    "\n",
    "for words in alist:\n",
    "    if words not in word_counts:\n",
    "        word_counts[words] = 0\n",
    "    word_counts[words] += 1\n"
   ]
  },
  {
   "cell_type": "markdown",
   "metadata": {},
   "source": [
    "Q2) . Create a dictionary called char_d from the string stri, so that the key is a character and the value is how many times it occurs"
   ]
  },
  {
   "cell_type": "raw",
   "metadata": {},
   "source": [
    "stri = \"what can I do\"\n",
    "char_d = {}\n",
    "for char in stri:\n",
    "    if char not in char_d:\n",
    "        char_d[char] = 0 \n",
    "    char_d[char] += 1\n",
    "\n"
   ]
  },
  {
   "cell_type": "markdown",
   "metadata": {},
   "source": [
    "Q3) The dictionary travel contains the number of countries within each continent that Jackie has traveled to. Find the total number of countries that Jackie has been to, and save this number to the variable name total. Do not hard code this!"
   ]
  },
  {
   "cell_type": "raw",
   "metadata": {},
   "source": [
    "travel = {\"North America\": 2, \"Europe\": 8, \"South America\": 3, \"Asia\": 4, \"Africa\":1, \"Antarctica\": 0, \"Australia\": 1}\n",
    "total = 0\n",
    "for key in travel:\n",
    "    total = total + travel[key]\n",
    "    \n",
    "print(total)"
   ]
  },
  {
   "cell_type": "markdown",
   "metadata": {},
   "source": [
    "Q3) schedule is a dictionary where a class name is a key and its value is how many credits it was worth. Go through and accumulate the total number of credits that have been earned so far and assign that to the variable total_credits. Do not hardcode."
   ]
  },
  {
   "cell_type": "raw",
   "metadata": {},
   "source": [
    "schedule = {\"UARTS 150\": 3, \"SPANISH 103\": 4, \"ENGLISH 125\": 4, \"SI 110\": 4, \"ENS 356\": 2, \"WOMENSTD 240\": 4, \"SI 106\": 4, \"BIO 118\": 3, \"SPANISH 231\": 4, \"PSYCH 111\": 4, \"LING 111\": 3, \"SPANISH 232\": 4, \"STATS 250\": 4, \"SI 206\": 4, \"COGSCI 200\": 4, \"AMCULT 202\": 4, \"ANTHRO 101\": 4}\n",
    "total_credits = 0\n",
    "for key in schedule:\n",
    "    total_credits += schedule[key]"
   ]
  },
  {
   "cell_type": "markdown",
   "metadata": {},
   "source": [
    "Q4) 1. Create a dictionary called d that keeps track of all the characters in the string placement and notes how many times each character was seen. Then, find the key with the lowest value in this dictionary and assign that key to min_value.\n",
    "\n"
   ]
  },
  {
   "cell_type": "raw",
   "metadata": {},
   "source": [
    "placement = \"Beaches are cool places to visit in spring however the Mackinaw Bridge is near. Most people visit Mackinaw later since the island is a cool place to explore.\"\n",
    "\n",
    "d = {}\n",
    "\n",
    "for char in placement:\n",
    "    if char not in d:\n",
    "        d[char] = 0 \n",
    "    d[char] += 1 \n",
    "keys = list(d.keys())\n",
    "min_value = keys[0]\n",
    "\n",
    "for key in keys:\n",
    "    if d[key] < d[min_value]:\n",
    "        min_value = key"
   ]
  },
  {
   "cell_type": "markdown",
   "metadata": {},
   "source": [
    "Q5)  Create a dictionary called lett_d that keeps track of all of the characters in the string product and notes how many times each character was seen. Then, find the key with the highest value in this dictionary and assign that key to max_value."
   ]
  },
  {
   "cell_type": "raw",
   "metadata": {},
   "source": [
    "product = \"iphone and android phones\"\n",
    "\n",
    "lett_d = {}\n",
    "\n",
    "for char in product:\n",
    "    if char not in lett_d:\n",
    "        lett_d[char] = 0\n",
    "    lett_d[char] +=1\n",
    "    \n",
    "print(lett_d)\n",
    "\n",
    "keys = list(lett_d.keys())\n",
    "max_value = keys[0]\n",
    "\n",
    "for key in keys:\n",
    "    if lett_d[key] > lett_d[max_value]:\n",
    "        max_value = key\n",
    "        "
   ]
  },
  {
   "cell_type": "code",
   "execution_count": null,
   "metadata": {},
   "outputs": [],
   "source": []
  },
  {
   "cell_type": "markdown",
   "metadata": {},
   "source": [
    "## course_2_assessment_3\n"
   ]
  },
  {
   "cell_type": "markdown",
   "metadata": {},
   "source": [
    "Q1) The dictionary Junior shows a schedule for a junior year semester. The key is the course name and the value is the number of credits. Find the total number of credits taken this semester and assign it to the variable credits. Do not hardcode this – use dictionary accumulation!"
   ]
  },
  {
   "cell_type": "raw",
   "metadata": {},
   "source": [
    "Junior = {'SI 206':4, 'SI 310':4, 'BL 300':3, 'TO 313':3, 'BCOM 350':1, 'MO 300':3}\n",
    "credits = 0 \n",
    "for key in Junior:\n",
    "    credits += Junior[key]\n",
    "    "
   ]
  },
  {
   "cell_type": "markdown",
   "metadata": {},
   "source": [
    "Q2) Create a dictionary, freq, that displays each character in string str1 as the key and its frequency as the value.\n",
    "\n"
   ]
  },
  {
   "cell_type": "raw",
   "metadata": {},
   "source": [
    "str1 = \"peter piper picked a peck of pickled peppers\"\n",
    "freq = {}\n",
    "\n",
    "for char in str1:\n",
    "    if char not in freq:\n",
    "        freq[char] = 0 \n",
    "    freq[char] += 1 \n",
    "    "
   ]
  },
  {
   "cell_type": "markdown",
   "metadata": {},
   "source": [
    "Q3) Provided is a string saved to the variable name s1. Create a dictionary named counts that contains each letter in s1 and the number of times it occurs.\n",
    "\n"
   ]
  },
  {
   "cell_type": "raw",
   "metadata": {},
   "source": [
    "s1 = \"hello\"\n",
    "counts = {}\n",
    "for char in s1:\n",
    "    if char not in counts:\n",
    "        counts[char] = 0\n",
    "    counts[char] += 1 \n"
   ]
  },
  {
   "cell_type": "markdown",
   "metadata": {},
   "source": [
    "Q4) Create a dictionary, freq_words, that contains each word in string str1 as the key and its frequency as the value.\n",
    "\n"
   ]
  },
  {
   "cell_type": "raw",
   "metadata": {},
   "source": [
    "str1 = \"I wish I wish with all my heart to fly with dragons in a land apart\"\n",
    "words = str1.split()\n",
    "freq_words = {}\n",
    "for char in words:\n",
    "    if char not in freq_words:\n",
    "        freq_words[char] = 0\n",
    "    freq_words[char] += 1"
   ]
  },
  {
   "cell_type": "markdown",
   "metadata": {},
   "source": [
    "Q5) Create a dictionary called wrd_d from the string sent, so that the key is a word and the value is how many times you have seen that word.\n",
    "\n"
   ]
  },
  {
   "cell_type": "raw",
   "metadata": {},
   "source": [
    "sent = \"Singing in the rain and playing in the rain are two entirely different situations but both can be good\"\n",
    "words = sent.split()\n",
    "wrd_d = {}\n",
    "for key in words:\n",
    "    if key not in wrd_d:\n",
    "        wrd_d[key] = 0 \n",
    "    wrd_d[key] += 1 \n"
   ]
  },
  {
   "cell_type": "markdown",
   "metadata": {},
   "source": [
    "Q7) Create the dictionary characters that shows each character from the string sally and its frequency. Then, find the most frequent letter based on the dictionary. Assign this letter to the variable best_char.\n",
    "\n"
   ]
  },
  {
   "cell_type": "raw",
   "metadata": {},
   "source": [
    "sally = \"sally sells sea shells by the sea shore\"\n",
    "\n",
    "characters = {} \n",
    "\n",
    "for char in sally:\n",
    "    if char not in characters:\n",
    "        characters[char] = 0\n",
    "    characters[char] += 1\n",
    "    \n",
    "    \n",
    "keys = list(characters.keys())\n",
    "best_char = keys[0]\n",
    "for key in keys:\n",
    "    if characters[key] > characters[best_char]:\n",
    "        best_char = key"
   ]
  },
  {
   "cell_type": "markdown",
   "metadata": {},
   "source": [
    "Q8) Find the least frequent letter. Create the dictionary characters that shows each character from string sally and its frequency. Then, find the least frequent letter in the string and assign the letter to the variable worst_char."
   ]
  },
  {
   "cell_type": "code",
   "execution_count": 7,
   "metadata": {},
   "outputs": [],
   "source": [
    "sally = \"sally sells sea shells by the sea shore and by the road\"\n",
    "\n",
    "characters = {}\n",
    "for char in sally:\n",
    "    if char not in characters:\n",
    "        characters[char] = 0\n",
    "    characters[char] += 1\n",
    "    \n",
    "key = list(characters.keys())\n",
    "worst_char = key[0]\n",
    "for k in key:\n",
    "    if characters[k] < characters[worst_char]:\n",
    "        worst_char = k"
   ]
  },
  {
   "cell_type": "markdown",
   "metadata": {},
   "source": [
    "Q9) Create a dictionary named letter_counts that contains each letter and the number of times it occurs in string1. Challenge: Letters should not be counted separately as upper-case and lower-case. Intead, all of them should be counted as lower-case."
   ]
  },
  {
   "cell_type": "raw",
   "metadata": {},
   "source": [
    "string1 = \"There is a tide in the affairs of men, Which taken at the flood, leads on to fortune. Omitted, all the voyage of their life is bound in shallows and in miseries. On such a full sea are we now afloat. And we must take the current when it serves, or lose our ventures.\"\n",
    "string1 = string1.lower()\n",
    "letter_counts  = {} \n",
    "for char in string1:\n",
    "    if char not in letter_counts:\n",
    "        letter_counts[char] = 0 \n",
    "    letter_counts[char] += 1 \n",
    "        "
   ]
  },
  {
   "cell_type": "markdown",
   "metadata": {},
   "source": [
    "Q10) Create a dictionary called low_d that keeps track of all the characters in the string p and notes how many times each character was seen. Make sure that there are no repeats of characters as keys, such that “T” and “t” are both seen as a “t” for example.\n",
    "\n"
   ]
  },
  {
   "cell_type": "raw",
   "metadata": {},
   "source": [
    "p = \"Summer is a great time to go outside. You have to be careful of the sun though because of the heat.\"\n",
    "\n",
    "low_d = {}\n",
    "\n",
    "\n",
    "for char in p.lower():\n",
    "    if char not in low_d:\n",
    "        low_d[char] = 0\n",
    "    low_d[char] += 1"
   ]
  },
  {
   "cell_type": "code",
   "execution_count": null,
   "metadata": {},
   "outputs": [],
   "source": []
  },
  {
   "cell_type": "markdown",
   "metadata": {},
   "source": [
    "# course_2_assessment_4\n"
   ]
  },
  {
   "cell_type": "markdown",
   "metadata": {},
   "source": [
    "# Q1\n",
    "\n",
    "Write a function called int_return that takes an integer as input and returns the same integer.\n",
    "\n"
   ]
  },
  {
   "cell_type": "raw",
   "metadata": {},
   "source": [
    "def int_return(num):\n",
    "    return num"
   ]
  },
  {
   "cell_type": "markdown",
   "metadata": {},
   "source": [
    "# Q2\n",
    "Write a function called add that takes any number as its input and returns that sum with 2 added.\n",
    "\n"
   ]
  },
  {
   "cell_type": "raw",
   "metadata": {},
   "source": [
    "def add(num):\n",
    "    return num + 2"
   ]
  },
  {
   "cell_type": "markdown",
   "metadata": {},
   "source": [
    "# Q3\n",
    "Write a function called change that takes any string, adds “Nice to meet you!” to the end of the argument given, and returns that new string.\n",
    "\n"
   ]
  },
  {
   "cell_type": "raw",
   "metadata": {},
   "source": [
    "def change(astr):\n",
    "    nstr = astr + \"Nice to meet you!\"\n",
    "    return nstr"
   ]
  },
  {
   "cell_type": "markdown",
   "metadata": {},
   "source": [
    "# Q4\n",
    "Write a function, accum, that takes a list of integers as input and returns the sum of those integers.\n",
    "\n"
   ]
  },
  {
   "cell_type": "raw",
   "metadata": {},
   "source": [
    "def accum(alist):\n",
    "    tot = 0\n",
    "    for num in alist:\n",
    "        tot += num\n",
    "    return tot"
   ]
  },
  {
   "cell_type": "markdown",
   "metadata": {},
   "source": [
    "# Q5\n",
    "Write a function, length, that takes in a list as the input. If the length of the list is greater than or equal to 5, return “Longer than 5”. If the length is less than 5, return “Less than 5”.\n",
    "\n"
   ]
  },
  {
   "cell_type": "raw",
   "metadata": {},
   "source": [
    "def length(alist):\n",
    "    if len(alist) >= 5:\n",
    "        return \"Longer than 5\"\n",
    "    elif len(alist) < 5 :\n",
    "        return \"Less than 5\"\n"
   ]
  },
  {
   "cell_type": "markdown",
   "metadata": {},
   "source": [
    "# Q6 \n",
    "You will need to write two functions for this problem. The first function, divide that takes in any number and returns that same number divided by 2. The second function called sum should take any number, divide it by 2, and add 6. It should return this new number. You should call the divide function within the sum function. Do not worry about decimals.\n",
    "\n"
   ]
  },
  {
   "cell_type": "raw",
   "metadata": {},
   "source": [
    "def divide(num):\n",
    "    return num / 2\n",
    "def sum(num):\n",
    "    num = divide(num)\n",
    "    return num + 6\n"
   ]
  },
  {
   "cell_type": "code",
   "execution_count": null,
   "metadata": {},
   "outputs": [],
   "source": [
    "\n"
   ]
  },
  {
   "cell_type": "markdown",
   "metadata": {},
   "source": [
    "## course_2_assessment_5\n"
   ]
  },
  {
   "cell_type": "markdown",
   "metadata": {},
   "source": [
    "# Q1 \n",
    "Create a tuple called olympics with four elements: “Beijing”, “London”, “Rio”, “Tokyo”.\n",
    "\n"
   ]
  },
  {
   "cell_type": "raw",
   "metadata": {},
   "source": [
    "olympics = (\"Beijing\", \"London\", \"Rio\", \"Tokyo\")"
   ]
  },
  {
   "cell_type": "markdown",
   "metadata": {},
   "source": [
    "# Q2 \n",
    "The list below, tuples_lst, is a list of tuples. Create a list of the second elements of each tuple and assign this list to the variable country.\n",
    "\n"
   ]
  },
  {
   "cell_type": "raw",
   "metadata": {},
   "source": [
    "\n",
    "tuples_lst = [('Beijing', 'China', 2008), ('London', 'England', 2012), ('Rio', 'Brazil', 2016, 'Current'), ('Tokyo', 'Japan', 2020, 'Future')]\n",
    "\n",
    "country = []\n",
    "for atup in tuples_lst:\n",
    "    country.append(atup[1])\n",
    "    "
   ]
  },
  {
   "cell_type": "markdown",
   "metadata": {},
   "source": [
    "# Q3 \n",
    "With only one line of code, assign the variables city, country, and year to the values of the tuple olymp.\n",
    "\n"
   ]
  },
  {
   "cell_type": "raw",
   "metadata": {},
   "source": [
    "\n",
    "olymp = ('Rio', 'Brazil', 2016)\n",
    "\n",
    "city, country , year = olymp"
   ]
  },
  {
   "cell_type": "markdown",
   "metadata": {},
   "source": [
    "# Q4 \n",
    "Define a function called info with five parameters: name, gender, age, bday_month, and hometown. The function should then return a tuple with all five parameters in that order.\n",
    "\n"
   ]
  },
  {
   "cell_type": "code",
   "execution_count": 8,
   "metadata": {},
   "outputs": [],
   "source": [
    "\n",
    "def info(name , gender , age , bday_month , hometown):\n",
    "    return (name , gender , age , bday_month , hometown)"
   ]
  },
  {
   "cell_type": "markdown",
   "metadata": {},
   "source": [
    "# Q5 \n",
    "Given is the dictionary, gold, which shows the country and the number of gold medals they have earned so far in the 2016 Olympics. Create a list, num_medals, that contains only the number of medals for each country. You must use the .items() method. Note: The .items() method provides a list of tuples. Do not use .keys() method.\n",
    "\n"
   ]
  },
  {
   "cell_type": "code",
   "execution_count": 9,
   "metadata": {},
   "outputs": [
    {
     "name": "stdout",
     "output_type": "stream",
     "text": [
      "[31, 19, 19, 13, 12, 10, 8, 8]\n"
     ]
    }
   ],
   "source": [
    "\n",
    "gold = {'USA':31, 'Great Britain':19, 'China':19, 'Germany':13, 'Russia':12, 'Japan':10, 'France':8, 'Italy':8}\n",
    "\n",
    "num_medals = []\n",
    "#for v in gold.values():\n",
    "    #num_medals.append(v)\n",
    "for k , v in gold.items():\n",
    "    num_medals.append(v)\n",
    "    \n",
    "print(num_medals)\n"
   ]
  },
  {
   "cell_type": "markdown",
   "metadata": {},
   "source": [
    "##  Optional Parameters "
   ]
  },
  {
   "cell_type": "markdown",
   "metadata": {},
   "source": [
    "# Q1) \n",
    "Write a function called str_mult that takes in a required string parameter and an optional integer parameter. The default value for the integer parameter should be 3. The function should return the string multiplied by the integer parameter.\n",
    "\n"
   ]
  },
  {
   "cell_type": "code",
   "execution_count": 10,
   "metadata": {},
   "outputs": [],
   "source": [
    "def str_mult(astr , num = 3):\n",
    "    return astr * num "
   ]
  },
  {
   "cell_type": "markdown",
   "metadata": {},
   "source": [
    "# Q2 \n",
    "Define a function called multiply. It should have one required parameter, a string. It should also have one optional parameter, an integer, named mult_int, with a default value of 10. The function should return the string multiplied by the integer. (i.e.: Given inputs “Hello”, mult_int=3, the function should return “HelloHelloHello”)\n",
    "\n"
   ]
  },
  {
   "cell_type": "code",
   "execution_count": 11,
   "metadata": {},
   "outputs": [],
   "source": [
    "def multiply(astr , mult_int = 10):\n",
    "    return astr * mult_int\n"
   ]
  },
  {
   "cell_type": "markdown",
   "metadata": {},
   "source": [
    "# course_2_assessment_7"
   ]
  },
  {
   "cell_type": "markdown",
   "metadata": {},
   "source": [
    "# Q1 \n",
    "\n",
    "Create a function called mult that has two parameters, the first is required and should be an integer, the second is an optional parameter that can either be a number or a string but whose default is 6. The function should return the first parameter multiplied by the second.\n",
    "\n"
   ]
  },
  {
   "cell_type": "code",
   "execution_count": 12,
   "metadata": {},
   "outputs": [],
   "source": [
    "def mult(num, snum = 6):\n",
    "    return num * snum\n"
   ]
  },
  {
   "cell_type": "markdown",
   "metadata": {},
   "source": [
    "# Q2 \n",
    "The following function, greeting, does not work. Please fix the code so that it runs without error. This only requires one change in the definition of the function.\n",
    "\n"
   ]
  },
  {
   "cell_type": "raw",
   "metadata": {},
   "source": [
    "\n",
    "def greeting(greeting=\"Hello \", name, excl=\"!\"):\n",
    "    return greeting + name + excl\n",
    "\n",
    "print(greeting(\"Bob\"))\n",
    "print(greeting(\"\"))\n",
    "print(greeting(\"Bob\", excl=\"!!!\"))\n"
   ]
  },
  {
   "cell_type": "code",
   "execution_count": 13,
   "metadata": {},
   "outputs": [
    {
     "name": "stdout",
     "output_type": "stream",
     "text": [
      "Hello Bob!\n",
      "Hello !\n",
      "Hello Bob!!!\n"
     ]
    }
   ],
   "source": [
    "def greeting(name , greeting=\"Hello \", excl=\"!\"):\n",
    "    return greeting + name + excl\n",
    "\n",
    "print(greeting(\"Bob\"))\n",
    "print(greeting(\"\"))\n",
    "print(greeting(\"Bob\", excl=\"!!!\"))"
   ]
  },
  {
   "cell_type": "markdown",
   "metadata": {},
   "source": [
    "# Q5 \n",
    "\n",
    "Below is a function, sum, that does not work. Change the function definition so the code works. The function should still have a required parameter, intx, and an optional parameter, intz with a defualt value of 5.\n",
    "\n"
   ]
  },
  {
   "cell_type": "raw",
   "metadata": {},
   "source": [
    "def sum(intz=5, intx):\n",
    "    return intz + intx\n"
   ]
  },
  {
   "cell_type": "code",
   "execution_count": 14,
   "metadata": {},
   "outputs": [],
   "source": [
    "\n",
    "def sum(intx,intz=5):\n",
    "    return intz + intx\n",
    "\n"
   ]
  },
  {
   "cell_type": "markdown",
   "metadata": {},
   "source": [
    "# Q6 \n",
    "Write a function, test, that takes in three parameters: a required integer, an optional boolean whose default value is True, and an optional dictionary, called dict1, whose default value is {2:3, 4:5, 6:8}. If the boolean parameter is True, the function should test to see if the integer is a key in the dictionary. The value of that key should then be returned. If the boolean parameter is False, return the boolean value “False”.\n",
    "\n"
   ]
  },
  {
   "cell_type": "code",
   "execution_count": 15,
   "metadata": {},
   "outputs": [],
   "source": [
    "def test(num , abool = True , dict1 = {2:3, 4:5, 6:8}):\n",
    "    if abool == True :\n",
    "        if num in dict1:\n",
    "            return dict1[num] \n",
    "    else:\n",
    "        return False\n"
   ]
  },
  {
   "cell_type": "markdown",
   "metadata": {},
   "source": [
    "# Q7 \n",
    "Write a function called checkingIfIn that takes three parameters. The first is a required parameter, which should be a string. The second is an optional parameter called direction with a default value of True. The third is an optional parameter called d that has a default value of {'apple': 2, 'pear': 1, 'fruit': 19, 'orange': 5, 'banana': 3, 'grapes': 2, 'watermelon': 7}. Write the function checkingIfIn so that when the second parameter is True, it checks to see if the first parameter is a key in the third parameter; if it is, return True, otherwise return False.\n",
    "\n",
    "But if the second paramter is False, then the function should check to see if the first parameter is not a key of the third. If it’s not, the function should return True in this case, and if it is, it should return False."
   ]
  },
  {
   "cell_type": "code",
   "execution_count": 18,
   "metadata": {},
   "outputs": [],
   "source": [
    "def checkingIfIn(astr, direction = True , d = {'apple': 2, 'pear': 1, 'fruit': 19, 'orange': 5, \n",
    "     'banana': 3, 'grapes': 2, 'watermelon': 7}):\n",
    "    if direction == True :\n",
    "        return astr in d \n",
    "    elif direction == False:\n",
    "        return astr not in d"
   ]
  },
  {
   "cell_type": "markdown",
   "metadata": {},
   "source": [
    "# Q8 \n",
    "We have provided the function checkingIfIn such that if the first input parameter is in the third, dictionary, input parameter, then the function returns that value, and otherwise, it returns False. Follow the instructions in the active code window for specific variable assignmemts.\n",
    "\n"
   ]
  },
  {
   "cell_type": "code",
   "execution_count": 19,
   "metadata": {},
   "outputs": [],
   "source": [
    "\n",
    "def checkingIfIn(a, direction = True, d = {'apple': 2, 'pear': 1, 'fruit': 19, 'orange': 5, 'banana': 3, 'grapes': 2, 'watermelon': 7}):\n",
    "    if direction == True:\n",
    "        if a in d:\n",
    "            return d[a]\n",
    "        else:\n",
    "            return False\n",
    "    else:\n",
    "        if a not in d:\n",
    "            return True\n",
    "        else:\n",
    "            return d[a]\n",
    "\n",
    "# Call the function so that it returns\n",
    "#False and assign that function call to the variable c_false\n",
    "\n",
    "c_false = checkingIfIn(\"cat\")\n",
    "\n",
    "# Call the fucntion so that it returns \n",
    "#True and assign it to the variable c_true\n",
    "c_true = checkingIfIn(\"cat\",direction = False)\n",
    "\n",
    "\n",
    "# Call the function so that the value of fruit is assigned to the variable fruit_ans = \n",
    "fruit_ans = checkingIfIn(\"fruit\")\n",
    "# Call the function using the first \n",
    "#and third parameter so that the value 8 is assigned to the variable param_check\n",
    "param_check = checkingIfIn(\"apple\", d = {'apple': 8, 'pear': 1, 'fruit': 19, 'orange': 5, 'banana': 3, 'grapes': 2, 'watermelon': 7})\n"
   ]
  },
  {
   "cell_type": "code",
   "execution_count": null,
   "metadata": {},
   "outputs": [],
   "source": []
  },
  {
   "cell_type": "markdown",
   "metadata": {},
   "source": [
    "# course_2_assessment_8\n"
   ]
  },
  {
   "cell_type": "markdown",
   "metadata": {},
   "source": [
    "# Q1)\n",
    "Sort the following string alphabetically, from z to a, and assign it to the variable sorted_letters.\n",
    "\n"
   ]
  },
  {
   "cell_type": "code",
   "execution_count": 28,
   "metadata": {},
   "outputs": [],
   "source": [
    "letters = \"alwnfiwaksuezlaeiajsdl\"\n",
    "sorted_letters = sorted(letters, reverse = True )\n"
   ]
  },
  {
   "cell_type": "markdown",
   "metadata": {},
   "source": [
    "# Q2 \n",
    "Sort the list below, animals, into alphabetical order, a-z. Save the new list as animals_sorted.\n",
    "\n"
   ]
  },
  {
   "cell_type": "code",
   "execution_count": 29,
   "metadata": {},
   "outputs": [],
   "source": [
    "animals = ['elephant', 'cat', 'moose', 'antelope', 'elk', 'rabbit', 'zebra', 'yak', 'salamander', 'deer', 'otter', 'minx', 'giraffe', 'goat', 'cow', 'tiger', 'bear']\n",
    "\n",
    "animals_sorted = sorted(animals)"
   ]
  },
  {
   "cell_type": "markdown",
   "metadata": {},
   "source": [
    "# Q3 \n",
    "The dictionary, medals, shows the medal count for six countries during the Rio Olympics. Sort the country names so they appear alphabetically. Save this list to the variable alphabetical.\n",
    "\n"
   ]
  },
  {
   "cell_type": "code",
   "execution_count": 30,
   "metadata": {},
   "outputs": [],
   "source": [
    "\n",
    "medals = {'Japan':41, 'Russia':56, 'South Korea':21, 'United States':121, 'Germany':42, 'China':70}\n",
    "\n",
    "countries  = list(medals.keys())\n",
    "alphabetical = sorted(countries)"
   ]
  },
  {
   "cell_type": "markdown",
   "metadata": {},
   "source": [
    "# Q4 \n",
    "Given the same dictionary, medals, now sort by the medal count. Save the three countries with the highest medal count to the list, top_three.\n",
    "\n"
   ]
  },
  {
   "cell_type": "code",
   "execution_count": 31,
   "metadata": {},
   "outputs": [],
   "source": [
    "medals = {'Japan':41, 'Russia':56, 'South Korea':21, 'United States':121, 'Germany':42, 'China':70}\n",
    "\n",
    "top_three = sorted(medals , reverse = True , key = lambda key : medals[key])[:3]"
   ]
  },
  {
   "cell_type": "markdown",
   "metadata": {},
   "source": [
    "# Q5\n",
    "We have provided the dictionary groceries. You should return a list of its keys, but they should be sorted by their values, from highest to lowest. Save the new list as most_needed.\n",
    "\n"
   ]
  },
  {
   "cell_type": "code",
   "execution_count": 32,
   "metadata": {},
   "outputs": [],
   "source": [
    "\n",
    "groceries = {'apples': 5, 'pasta': 3, 'carrots': 12, 'orange juice': 2, 'bananas': 8, 'popcorn': 1, 'salsa': 3, 'cereal': 4, 'coffee': 5, 'granola bars': 15, 'onions': 7, 'rice': 1, 'peanut butter': 2, 'spinach': 9}\n",
    "\n",
    "most_needed = sorted(groceries , reverse = True , key = lambda key : groceries[key])"
   ]
  },
  {
   "cell_type": "markdown",
   "metadata": {},
   "source": [
    "# Q6 \n",
    "Create a function called last_four that takes in an ID number and returns the last four digits. For example, the number 17573005 should return 3005. Then, use this function to sort the list of ids stored in the variable, ids, from lowest to highest. Save this sorted list in the variable, sorted_ids. Hint: Remember that only strings can be indexed, so conversions may be needed.\n",
    "\n"
   ]
  },
  {
   "cell_type": "code",
   "execution_count": 33,
   "metadata": {},
   "outputs": [],
   "source": [
    "\n",
    "def last_four(x): # x is an int number that represent the iD \n",
    "    x = str(x)\n",
    "    return x[-4:]\n",
    "        \n",
    "\n",
    "\n",
    "\n",
    "ids = [17573005, 17572342, 17579000, 17570002, 17572345, 17579329]\n",
    "\n",
    "sorted_ids = sorted(ids, key = last_four)"
   ]
  },
  {
   "cell_type": "markdown",
   "metadata": {},
   "source": [
    "# q7 \n",
    "Sort the following list by each element’s second letter a to z. Do so by using lambda. Assign the resulting value to the variable lambda_sort.\n",
    "\n"
   ]
  },
  {
   "cell_type": "code",
   "execution_count": 34,
   "metadata": {},
   "outputs": [],
   "source": [
    "\n",
    "ex_lst = ['hi', 'how are you', 'bye', 'apple', 'zebra', 'dance']\n",
    "\n",
    "    \n",
    "\n",
    "lambda_sort = sorted(ex_lst , reverse = False , key = lambda ex_lst:ex_lst[1])"
   ]
  },
  {
   "cell_type": "markdown",
   "metadata": {},
   "source": [
    "# Q8 \n",
    "Sort the list ids by the last four digits of each id. Do this using lambda and not using a defined function. Save this sorted list in the variable sorted_id.\n",
    "\n"
   ]
  },
  {
   "cell_type": "code",
   "execution_count": 35,
   "metadata": {},
   "outputs": [
    {
     "name": "stdout",
     "output_type": "stream",
     "text": [
      "['17573005', '17572342', '17579000', '17570002', '17572345', '17579329']\n"
     ]
    }
   ],
   "source": [
    "ids = [17573005, 17572342, 17579000, 17570002, 17572345, 17579329]\n",
    "str_ids = [ str(item) for item in ids ] \n",
    "print(str_ids)\n",
    "sorted_id1 = sorted(str_ids , key = lambda str_ids :  str_ids[-4:])\n",
    "sorted_id = []\n",
    "for item in sorted_id1:\n",
    "    sorted_id.append(int(item))"
   ]
  },
  {
   "cell_type": "code",
   "execution_count": null,
   "metadata": {},
   "outputs": [],
   "source": []
  }
 ],
 "metadata": {
  "kernelspec": {
   "display_name": "Python 3",
   "language": "python",
   "name": "python3"
  },
  "language_info": {
   "codemirror_mode": {
    "name": "ipython",
    "version": 3
   },
   "file_extension": ".py",
   "mimetype": "text/x-python",
   "name": "python",
   "nbconvert_exporter": "python",
   "pygments_lexer": "ipython3",
   "version": "3.7.6"
  }
 },
 "nbformat": 4,
 "nbformat_minor": 4
}
